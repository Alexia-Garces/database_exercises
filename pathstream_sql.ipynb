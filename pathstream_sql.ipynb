{
  "nbformat": 4,
  "nbformat_minor": 0,
  "metadata": {
    "colab": {
      "name": "pathstream_sql.ipynb",
      "provenance": [],
      "authorship_tag": "ABX9TyPSulS4lIhzM3QdTm64rTJz",
      "include_colab_link": true
    },
    "kernelspec": {
      "name": "python3",
      "display_name": "Python 3"
    },
    "language_info": {
      "name": "python"
    }
  },
  "cells": [
    {
      "cell_type": "markdown",
      "metadata": {
        "id": "view-in-github",
        "colab_type": "text"
      },
      "source": [
        "<a href=\"https://colab.research.google.com/github/Alexia-Garces/database_exercises/blob/main/pathstream_sql.ipynb\" target=\"_parent\"><img src=\"https://colab.research.google.com/assets/colab-badge.svg\" alt=\"Open In Colab\"/></a>"
      ]
    },
    {
      "cell_type": "code",
      "execution_count": null,
      "metadata": {
        "id": "01iVKeLTd5z4"
      },
      "outputs": [],
      "source": [
        ""
      ]
    },
    {
      "cell_type": "markdown",
      "source": [
        " # Introduction to Databases\n",
        " * A **database** is an organized collection of information. \n",
        "\n"
      ],
      "metadata": {
        "id": "2w6DInsRd82A"
      }
    }
  ]
}